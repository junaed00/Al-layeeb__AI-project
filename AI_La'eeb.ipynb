{
  "cells": [
    {
      "cell_type": "code",
      "execution_count": null,
      "metadata": {
        "id": "eOYkgaC2T0fy",
        "outputId": "3ba95709-36b8-4d32-cea5-691dd3c390f2",
        "colab": {
          "base_uri": "https://localhost:8080/"
        }
      },
      "outputs": [
        {
          "output_type": "stream",
          "name": "stdout",
          "text": [
            "env: KAGGLE_CONFIG_DIR=/content\n",
            "Downloading hand-gesture-recognition-dataset.zip to /content\n",
            " 93% 35.0M/37.6M [00:02<00:00, 16.7MB/s]\n",
            "100% 37.6M/37.6M [00:03<00:00, 13.1MB/s]\n"
          ]
        }
      ],
      "source": [
        "# !chmod 600 /content/kaggle.json\n",
        "# %env KAGGLE_CONFIG_DIR=/content\n",
        "# !kaggle datasets download -d aryarishabh/hand-gesture-recognition-dataset\n",
        "# !unzip -q hand-gesture-recognition-dataset.zip\n",
        "# !mkdir Dataset\n",
        "# !mv ./train/train ./Dataset\n",
        "# !mv ./test/test ./Dataset\n",
        "# !rmdir ./train\n",
        "# !rmdir ./test\n",
        "# !rm ./hand-gesture-recognition-dataset.zip"
      ]
    },
    {
      "cell_type": "code",
      "execution_count": null,
      "metadata": {
        "id": "RBsBxy77IyzO"
      },
      "outputs": [],
      "source": [
        "import tensorflow as tf;\n",
        "\n",
        "import numpy as np;\n",
        "import matplotlib.pyplot as plt;"
      ]
    },
    {
      "cell_type": "code",
      "execution_count": null,
      "metadata": {
        "id": "uanOuajtIyzW",
        "outputId": "14aaddd4-a806-4da8-ffc1-1a6186f2139d",
        "colab": {
          "base_uri": "https://localhost:8080/"
        }
      },
      "outputs": [
        {
          "output_type": "stream",
          "name": "stdout",
          "text": [
            "Downloading data from https://storage.googleapis.com/tensorflow/keras-applications/vgg16/vgg16_weights_tf_dim_ordering_tf_kernels_notop.h5\n",
            "58889256/58889256 [==============================] - 4s 0us/step\n"
          ]
        }
      ],
      "source": [
        "tf.keras.utils.set_random_seed(42);\n",
        "vgg16 = tf.keras.applications.vgg16.VGG16(weights='imagenet', include_top=False, input_shape=(50, 50, 3), pooling=\"max\")\n",
        "# vgg16.summary()"
      ]
    },
    {
      "cell_type": "code",
      "execution_count": null,
      "metadata": {
        "colab": {
          "base_uri": "https://localhost:8080/"
        },
        "id": "kzjty2JKIyzY",
        "outputId": "5687aaca-b1a8-4bf2-a99d-0f829dd719d9"
      },
      "outputs": [
        {
          "output_type": "stream",
          "name": "stdout",
          "text": [
            "Found 18000 files belonging to 20 classes.\n",
            "Found 6000 files belonging to 20 classes.\n"
          ]
        },
        {
          "output_type": "execute_result",
          "data": {
            "text/plain": [
              "(<BatchDataset element_spec=(TensorSpec(shape=(None, 50, 50, 3), dtype=tf.float32, name=None), TensorSpec(shape=(None, 20), dtype=tf.float32, name=None))>,\n",
              " <BatchDataset element_spec=(TensorSpec(shape=(None, 50, 50, 3), dtype=tf.float32, name=None), TensorSpec(shape=(None, 20), dtype=tf.float32, name=None))>)"
            ]
          },
          "metadata": {},
          "execution_count": 7
        }
      ],
      "source": [
        "bs = 64;\n",
        "train_ds = tf.keras.utils.image_dataset_from_directory(\"./Dataset/train/\", label_mode=\"categorical\", batch_size=bs, image_size=(50, 50), shuffle=True);\n",
        "test_ds = tf.keras.utils.image_dataset_from_directory(\"./Dataset/test/\", label_mode=\"categorical\", batch_size=bs, image_size=(50, 50), shuffle=True);\n",
        "\n",
        "train_ds, test_ds"
      ]
    },
    {
      "cell_type": "code",
      "execution_count": null,
      "metadata": {
        "colab": {
          "base_uri": "https://localhost:8080/"
        },
        "id": "dwtial0WIyzZ",
        "outputId": "22a556ce-4937-4121-de6a-d87ddbf6329a"
      },
      "outputs": [
        {
          "output_type": "execute_result",
          "data": {
            "text/plain": [
              "(<ParallelMapDataset element_spec=(TensorSpec(shape=(None, 50, 50, 3), dtype=tf.uint8, name=None), TensorSpec(shape=(None, 20), dtype=tf.float32, name=None))>,\n",
              " <SkipDataset element_spec=(TensorSpec(shape=(None, 50, 50, 3), dtype=tf.uint8, name=None), TensorSpec(shape=(None, 20), dtype=tf.float32, name=None))>)"
            ]
          },
          "metadata": {},
          "execution_count": 8
        }
      ],
      "source": [
        "def map_func(image, label):\n",
        "    image = tf.cast(image, tf.uint8);\n",
        "    image = tf.keras.applications.vgg16.preprocess_input(image);\n",
        "    return (image, label);\n",
        "train_ds = train_ds.map(map_func, num_parallel_calls=tf.data.AUTOTUNE, deterministic=False);\n",
        "test_ds = test_ds.map(map_func, num_parallel_calls=tf.data.AUTOTUNE, deterministic=False);\n",
        "val_ds = test_ds.take(int(.8*6000//bs))\n",
        "test_ds = test_ds.skip(int(.8*6000//bs))\n",
        "train_ds, test_ds"
      ]
    },
    {
      "cell_type": "code",
      "execution_count": null,
      "metadata": {
        "id": "aZZJWMEwIyza"
      },
      "outputs": [],
      "source": [
        "# sample = train_ds.take(3);\n",
        "# sample.cardinality()"
      ]
    },
    {
      "cell_type": "code",
      "execution_count": null,
      "metadata": {
        "id": "oibF8YL5Iyzb"
      },
      "outputs": [],
      "source": [
        "# img = next(iter(sample))[0][0];\n",
        "# plt.imshow(img);"
      ]
    },
    {
      "cell_type": "code",
      "execution_count": null,
      "metadata": {
        "id": "Twc7lBImIyzc"
      },
      "outputs": [],
      "source": [
        "# features = vgg16.predict(sample);\n",
        "# features.shape"
      ]
    },
    {
      "cell_type": "code",
      "execution_count": null,
      "metadata": {
        "id": "QWdoVz7AIyzd"
      },
      "outputs": [],
      "source": [
        "x = vgg16.output;\n",
        "x = tf.keras.layers.Dense(1024, activation=\"relu\")(x);\n",
        "preds = tf.keras.layers.Dense(20, activation=\"softmax\")(x);\n",
        "\n",
        "laeeb = tf.keras.models.Model(inputs=vgg16.input, outputs=preds);\n",
        "# laeeb.summary()\n",
        "\n",
        "# TRY: replacing this loop with vgg16.trainable=False\n",
        "for layer in vgg16.layers:\n",
        "    layer.trainable = False;"
      ]
    },
    {
      "cell_type": "code",
      "execution_count": null,
      "metadata": {
        "id": "_GSuMQQoIyzf"
      },
      "outputs": [],
      "source": [
        "laeeb.compile(optimizer=tf.keras.optimizers.Adam(), loss=tf.keras.losses.CategoricalCrossentropy(), metrics=[tf.keras.metrics.BinaryAccuracy()]);"
      ]
    },
    {
      "cell_type": "code",
      "execution_count": null,
      "metadata": {
        "colab": {
          "base_uri": "https://localhost:8080/"
        },
        "id": "WWLnJwIPIyzg",
        "outputId": "a023da31-8bb9-479d-9806-2a4c7c0cc0e6"
      },
      "outputs": [
        {
          "output_type": "stream",
          "name": "stdout",
          "text": [
            "Epoch 1/8\n",
            "282/282 [==============================] - 16s 29ms/step - loss: 0.7354 - binary_accuracy: 0.9813 - val_loss: 0.3987 - val_binary_accuracy: 0.9878\n",
            "Epoch 2/8\n",
            "282/282 [==============================] - 8s 27ms/step - loss: 0.3121 - binary_accuracy: 0.9903 - val_loss: 0.3172 - val_binary_accuracy: 0.9899\n",
            "Epoch 3/8\n",
            "282/282 [==============================] - 8s 28ms/step - loss: 0.2117 - binary_accuracy: 0.9928 - val_loss: 0.2954 - val_binary_accuracy: 0.9906\n",
            "Epoch 4/8\n",
            "282/282 [==============================] - 8s 28ms/step - loss: 0.1800 - binary_accuracy: 0.9937 - val_loss: 0.2986 - val_binary_accuracy: 0.9909\n",
            "Epoch 5/8\n",
            "282/282 [==============================] - 8s 28ms/step - loss: 0.1631 - binary_accuracy: 0.9942 - val_loss: 0.3119 - val_binary_accuracy: 0.9904\n",
            "Epoch 6/8\n",
            "282/282 [==============================] - 8s 28ms/step - loss: 0.1331 - binary_accuracy: 0.9954 - val_loss: 0.3488 - val_binary_accuracy: 0.9898\n",
            "Epoch 7/8\n",
            "282/282 [==============================] - 8s 28ms/step - loss: 0.1198 - binary_accuracy: 0.9957 - val_loss: 0.3307 - val_binary_accuracy: 0.9905\n",
            "Epoch 8/8\n",
            "282/282 [==============================] - 8s 28ms/step - loss: 0.1179 - binary_accuracy: 0.9958 - val_loss: 0.3996 - val_binary_accuracy: 0.9895\n"
          ]
        },
        {
          "output_type": "execute_result",
          "data": {
            "text/plain": [
              "{'verbose': 1, 'epochs': 8, 'steps': 282}"
            ]
          },
          "metadata": {},
          "execution_count": 11
        }
      ],
      "source": [
        "history = laeeb.fit(train_ds, validation_data=val_ds, epochs=8);\n",
        "# history = laeeb.fit(sample, epochs=2);\n",
        "history.params"
      ]
    },
    {
      "cell_type": "code",
      "execution_count": null,
      "metadata": {
        "colab": {
          "base_uri": "https://localhost:8080/",
          "height": 265
        },
        "id": "e2kzE53-F7GI",
        "outputId": "d1898fd7-bfd0-4b79-aa05-7afc7c2c200f"
      },
      "outputs": [
        {
          "output_type": "display_data",
          "data": {
            "text/plain": [
              "<Figure size 432x288 with 1 Axes>"
            ],
            "image/png": "[encoded data removed]"
          },
          "metadata": {
            "needs_background": "light"
          }
        }
      ],
      "source": [
        "plt.plot(history.history[\"loss\"]);"
      ]
    },
    {
      "cell_type": "code",
      "execution_count": null,
      "metadata": {
        "colab": {
          "base_uri": "https://localhost:8080/"
        },
        "id": "Xpaxf5nvIyzh",
        "outputId": "20388ec0-aa9e-4e62-cce8-f9a805d95d42"
      },
      "outputs": [
        {
          "output_type": "stream",
          "name": "stdout",
          "text": [
            "19/19 [==============================] - 2s 50ms/step - loss: 0.4775 - binary_accuracy: 0.9877\n"
          ]
        },
        {
          "output_type": "execute_result",
          "data": {
            "text/plain": [
              "[0.47751301527023315, 0.987666666507721]"
            ]
          },
          "metadata": {},
          "execution_count": 13
        }
      ],
      "source": [
        "laeeb.evaluate(test_ds)\n",
        "# laeeb.evaluate(test_ds.take(3))"
      ]
    },
    {
      "cell_type": "code",
      "execution_count": null,
      "metadata": {
        "colab": {
          "base_uri": "https://localhost:8080/"
        },
        "id": "9gzWbBMFPH8X",
        "outputId": "ed0b78af-c132-4511-b218-0ad699a5b6d0"
      },
      "outputs": [
        {
          "output_type": "stream",
          "name": "stdout",
          "text": [
            "0 input_1\n",
            "1 block1_conv1\n",
            "2 block1_conv2\n",
            "3 block1_pool\n",
            "4 block2_conv1\n",
            "5 block2_conv2\n",
            "6 block2_pool\n",
            "7 block3_conv1\n",
            "8 block3_conv2\n",
            "9 block3_conv3\n",
            "10 block3_pool\n",
            "11 block4_conv1\n",
            "12 block4_conv2\n",
            "13 block4_conv3\n",
            "14 block4_pool\n",
            "15 block5_conv1\n",
            "16 block5_conv2\n",
            "17 block5_conv3\n",
            "18 block5_pool\n",
            "19 global_max_pooling2d\n"
          ]
        }
      ],
      "source": [
        "for i, layer in enumerate(vgg16.layers):\n",
        "  print(i, layer.name);"
      ]
    },
    {
      "cell_type": "code",
      "execution_count": null,
      "metadata": {
        "id": "SqFmv_EKPvC2"
      },
      "outputs": [],
      "source": [
        "for layer in laeeb.layers[:15]:\n",
        "  layer.trainable = False;\n",
        "for layer in laeeb.layers[15:]:\n",
        "  layer.trainable = True;\n",
        "\n",
        "laeeb.compile(optimizer=tf.keras.optimizers.SGD(learning_rate=0.0001, momentum=0.9), loss=tf.keras.losses.CategoricalCrossentropy(), metrics=[tf.keras.metrics.BinaryAccuracy()]);"
      ]
    },
    {
      "cell_type": "code",
      "execution_count": null,
      "metadata": {
        "colab": {
          "base_uri": "https://localhost:8080/"
        },
        "id": "Yi9MSK2dUEBI",
        "outputId": "ff7e437e-be02-409e-ed2c-f209571e8d0e"
      },
      "outputs": [
        {
          "output_type": "stream",
          "name": "stdout",
          "text": [
            "Epoch 1/4\n",
            "282/282 [==============================] - 12s 37ms/step - loss: 0.2699 - binary_accuracy: 0.9932 - val_loss: 0.1233 - val_binary_accuracy: 0.9960\n",
            "Epoch 2/4\n",
            "282/282 [==============================] - 10s 37ms/step - loss: 0.0360 - binary_accuracy: 0.9988 - val_loss: 0.0993 - val_binary_accuracy: 0.9967\n",
            "Epoch 3/4\n",
            "282/282 [==============================] - 11s 37ms/step - loss: 0.0135 - binary_accuracy: 0.9996 - val_loss: 0.0722 - val_binary_accuracy: 0.9975\n",
            "Epoch 4/4\n",
            "282/282 [==============================] - 13s 44ms/step - loss: 0.0079 - binary_accuracy: 0.9998 - val_loss: 0.0597 - val_binary_accuracy: 0.9981\n"
          ]
        },
        {
          "output_type": "execute_result",
          "data": {
            "text/plain": [
              "{'verbose': 1, 'epochs': 4, 'steps': 282}"
            ]
          },
          "metadata": {},
          "execution_count": 16
        }
      ],
      "source": [
        "history = laeeb.fit(train_ds, validation_data=val_ds, epochs=4);\n",
        "# history = laeeb.fit(sample, epochs=2);\n",
        "history.params"
      ]
    },
    {
      "cell_type": "code",
      "source": [
        "plt.plot(history.history[\"loss\"]);"
      ],
      "metadata": {
        "id": "RPvQapO1aont",
        "outputId": "aa9ddd3c-8e43-4d1b-d3e9-715fbf1537ff",
        "colab": {
          "base_uri": "https://localhost:8080/",
          "height": 265
        }
      },
      "execution_count": null,
      "outputs": [
        {
          "output_type": "display_data",
          "data": {
            "text/plain": [
              "<Figure size 432x288 with 1 Axes>"
            ],
            "image/png": "[encoded data removed]"
          },
          "metadata": {
            "needs_background": "light"
          }
        }
      ]
    },
    {
      "cell_type": "code",
      "execution_count": null,
      "metadata": {
        "colab": {
          "base_uri": "https://localhost:8080/"
        },
        "id": "Xx0VVfBOUdUI",
        "outputId": "0da47678-32fc-4903-fb81-8672511331fa"
      },
      "outputs": [
        {
          "output_type": "stream",
          "name": "stdout",
          "text": [
            "19/19 [==============================] - 1s 25ms/step - loss: 0.0970 - binary_accuracy: 0.9971\n"
          ]
        }
      ],
      "source": [
        "laeeb.evaluate(test_ds);"
      ]
    }
  ],
  "metadata": {
    "accelerator": "GPU",
    "colab": {
      "provenance": []
    },
    "gpuClass": "standard",
    "kernelspec": {
      "display_name": "Python 3.8.10 64-bit",
      "language": "python",
      "name": "python3"
    },
    "language_info": {
      "codemirror_mode": {
        "name": "ipython",
        "version": 3
      },
      "file_extension": ".py",
      "mimetype": "text/x-python",
      "name": "python",
      "nbconvert_exporter": "python",
      "pygments_lexer": "ipython3",
      "version": "3.8.10"
    },
    "orig_nbformat": 4,
    "vscode": {
      "interpreter": {
        "hash": "fd6c014c9130c2ca28e508cbd320e5ee7127f51793d21ce8d03443646cef9b7a"
      }
    }
  },
  "nbformat": 4,
  "nbformat_minor": 0
}